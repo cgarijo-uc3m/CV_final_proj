{
 "cells": [
  {
   "cell_type": "markdown",
   "metadata": {},
   "source": [
    "## **Class Activation Maps (CAM) and Saliency Maps are techniques used to visualize and understand the important regions of an input image that contribute to the prediction of a neural network, especially Convolutional Neural Networks (CNNs).**\n"
   ]
  },
  {
   "cell_type": "markdown",
   "metadata": {},
   "source": [
    "* ### CAM produces a heatmap that highlights discriminative regions of an image related to a specific class by associating importance weights with different spatial locations in the image. It weights the feature maps based on the importance values and produces a weighted combination.\n"
   ]
  },
  {
   "cell_type": "markdown",
   "metadata": {},
   "source": [
    "Conclusões:\n",
    "04/02 - o tamanho das layers intermedias e muito pequeno e faz com que o gradcam apanhe imensa area da imagem. Considerar mudar para um arquitectura maior em que as layers intermedias tambem sao maiores "
   ]
  },
  {
   "cell_type": "code",
   "execution_count": 1,
   "metadata": {},
   "outputs": [],
   "source": [
    "import sys\n",
    "sys.path.append(\"..\")"
   ]
  },
  {
   "cell_type": "code",
   "execution_count": null,
   "metadata": {},
   "outputs": [],
   "source": [
    "# !pip install torch torchvision\n",
    "# !pip install scikit-learn\n",
    "# !pip install pillow\n",
    "# !pip install pandas\n",
    "# !pip install seaborn\n",
    "# !pip install opencv-python \n",
    "# !pip install matplotlib\n",
    "# !pip install pytorch-lightning\n",
    "# !pip install scikit-image\n"
   ]
  },
  {
   "cell_type": "code",
   "execution_count": 2,
   "metadata": {},
   "outputs": [],
   "source": [
    "import torch\n",
    "import torch.nn as nn\n",
    "import torch.optim as optim\n",
    "import pytorch_lightning as pl\n",
    "from torchvision import models, transforms, datasets\n",
    "from torch.utils.data import DataLoader, random_split\n",
    "from sklearn.model_selection import train_test_split\n",
    "from sklearn.metrics import (classification_report, confusion_matrix, accuracy_score,\n",
    "                             precision_score, recall_score, f1_score, log_loss, jaccard_score)\n",
    "import numpy as np\n",
    "import os\n",
    "from PIL import Image\n",
    "from shutil import copyfile  \n",
    "import pandas as pd\n",
    "import seaborn as sns\n",
    "import cv2\n",
    "import matplotlib.pyplot as plt"
   ]
  },
  {
   "cell_type": "markdown",
   "metadata": {},
   "source": [
    "# **Model checkpoint**"
   ]
  },
  {
   "cell_type": "code",
   "execution_count": 2,
   "metadata": {},
   "outputs": [],
   "source": [
    "import os\n",
    "from pathlib import Path\n",
    "\n",
    "BASE_DIR = '/nas-ctm01/homes/dpmoura/xai-post-hoc'\n",
    "PROJ_DIR = BASE_DIR + '/scripts_lightning'\n",
    "DATA_DIR = BASE_DIR + '/cifar-10-batches-py'\n",
    "BATCH_SIZE = 128"
   ]
  },
  {
   "cell_type": "markdown",
   "metadata": {},
   "source": [
    "# **Accuracy and loss graph of training and validation**"
   ]
  },
  {
   "cell_type": "code",
   "execution_count": 3,
   "metadata": {},
   "outputs": [
    {
     "ename": "NameError",
     "evalue": "name 'PROJ_DIR' is not defined",
     "output_type": "error",
     "traceback": [
      "\u001b[31m---------------------------------------------------------------------------\u001b[39m",
      "\u001b[31mNameError\u001b[39m                                 Traceback (most recent call last)",
      "\u001b[36mCell\u001b[39m\u001b[36m \u001b[39m\u001b[32mIn[3]\u001b[39m\u001b[32m, line 3\u001b[39m\n\u001b[32m      1\u001b[39m \u001b[38;5;28;01mfrom\u001b[39;00m\u001b[38;5;250m \u001b[39m\u001b[34;01mplotting\u001b[39;00m\u001b[38;5;250m \u001b[39m\u001b[38;5;28;01mimport\u001b[39;00m plot_training_curves\n\u001b[32m----> \u001b[39m\u001b[32m3\u001b[39m train_metrics_path = \u001b[43mPROJ_DIR\u001b[49m + \u001b[33m'\u001b[39m\u001b[33m/models/logs/version_1/training_metrics.npz\u001b[39m\u001b[33m'\u001b[39m  \n\u001b[32m      5\u001b[39m plot_training_curves(metrics_path= train_metrics_path, output_path = \u001b[33m'\u001b[39m\u001b[33mtraining_metrics.png\u001b[39m\u001b[33m'\u001b[39m) \n",
      "\u001b[31mNameError\u001b[39m: name 'PROJ_DIR' is not defined"
     ]
    }
   ],
   "source": [
    "from plotting import plot_training_curves\n",
    "\n",
    "train_metrics_path = PROJ_DIR + '/models/logs/version_1/training_metrics.npz'  \n",
    "\n",
    "plot_training_curves(metrics_path= train_metrics_path, output_path = 'training_metrics.png') "
   ]
  },
  {
   "cell_type": "markdown",
   "metadata": {},
   "source": [
    "# **Testing**"
   ]
  },
  {
   "cell_type": "markdown",
   "metadata": {},
   "source": [
    "Neste momento tou a guardar no server nao preciso de testar"
   ]
  },
  {
   "cell_type": "code",
   "execution_count": 3,
   "metadata": {},
   "outputs": [],
   "source": [
    "# Define the path\n",
    "test_results_path = PROJ_DIR + '/models/logs/version_1/test_results.npz'\n",
    "\n",
    "# Load the .npz file\n",
    "test_results = np.load(test_results_path)\n",
    "\n",
    "# Extract data\n",
    "test_preds = test_results['preds']\n",
    "test_targets = test_results['targets']\n",
    "test_probs = test_results['probs']\n"
   ]
  },
  {
   "cell_type": "code",
   "execution_count": null,
   "metadata": {},
   "outputs": [],
   "source": [
    "test_results.files"
   ]
  },
  {
   "cell_type": "markdown",
   "metadata": {},
   "source": [
    "# **Classification Report**"
   ]
  },
  {
   "cell_type": "code",
   "execution_count": null,
   "metadata": {},
   "outputs": [],
   "source": [
    "from reporting import generate_classification_report\n",
    "\n",
    "report = generate_classification_report(test_targets, test_preds)\n",
    "print(\"Classification Report:\")\n",
    "print(report)\n",
    "\n",
    "# 4. Get final metrics from logged results\n",
    "accuracy = (test_preds == test_targets).mean()\n",
    "print(f\"Final Test Accuracy: {accuracy:.2%}\")"
   ]
  },
  {
   "cell_type": "markdown",
   "metadata": {},
   "source": [
    "# **No. 1 : Explainable AI (GradCAM)**\n",
    "\n",
    "Proximo passo é mudar esta funcao para sacar uma imagem de cada classe como so ha duas e gerar diferentes metodos"
   ]
  },
  {
   "cell_type": "code",
   "execution_count": 4,
   "metadata": {},
   "outputs": [
    {
     "name": "stdout",
     "output_type": "stream",
     "text": [
      "Path exists: /nas-ctm01/homes/dpmoura/xai-post-hoc/scripts_lightning/models/checkpoints\n",
      "Contents: ['best_model.ckpt']\n"
     ]
    }
   ],
   "source": [
    "\n",
    "checkpoint_path = PROJ_DIR + '/models/checkpoints' \n",
    "\n",
    "import os\n",
    "if os.path.exists(checkpoint_path):\n",
    "    print(f\"Path exists: {checkpoint_path}\")\n",
    "    print(\"Contents:\", os.listdir(checkpoint_path))\n",
    "else:\n",
    "    print(\"Path does not exist.\")\n",
    "\n",
    "\n",
    "# try:\n",
    "#     checkpoint = torch.load(checkpoint_path, map_location=\"cpu\", pickle_module=pickle)\n",
    "#     print(\"Checkpoint loaded successfully!\")\n",
    "# except Exception as e:\n",
    "#     print(\"Error loading checkpoint:\", e)"
   ]
  },
  {
   "cell_type": "code",
   "execution_count": null,
   "metadata": {},
   "outputs": [],
   "source": [
    "import gc\n",
    "import torch\n",
    "\n",
    "# List all loaded PyTorch models\n",
    "for obj in gc.get_objects():\n",
    "    if isinstance(obj, torch.nn.Module):\n",
    "        print(type(obj))  # Print the model class name\n"
   ]
  },
  {
   "cell_type": "code",
   "execution_count": 5,
   "metadata": {},
   "outputs": [],
   "source": [
    "model_path = checkpoint_path + '/best_model.ckpt'"
   ]
  },
  {
   "cell_type": "code",
   "execution_count": 6,
   "metadata": {},
   "outputs": [
    {
     "name": "stdout",
     "output_type": "stream",
     "text": [
      "Checkpoint loaded successfully!\n"
     ]
    }
   ],
   "source": [
    "try:\n",
    "    checkpoint = torch.load(model_path, weights_only=True, map_location=\"cpu\")  \n",
    "    print(\"Checkpoint loaded successfully!\")\n",
    "except Exception as e:\n",
    "    print(\"Error loading checkpoint:\", e)\n"
   ]
  },
  {
   "cell_type": "code",
   "execution_count": 24,
   "metadata": {},
   "outputs": [],
   "source": [
    "import torch\n",
    "import numpy as np\n",
    "import matplotlib.pyplot as plt\n",
    "from collections import defaultdict\n",
    "from skimage.transform import resize\n",
    "\n",
    "from pytorch_grad_cam import GradCAM, HiResCAM, ScoreCAM\n",
    "from pytorch_grad_cam.utils.image import show_cam_on_image\n",
    "from pytorch_grad_cam.utils.model_targets import ClassifierOutputTarget\n",
    "\n",
    "from lit_model import LitResNet\n",
    "from data_module import CIFAR10DataModule\n",
    "\n",
    "model = LitResNet.load_from_checkpoint(model_path)\n",
    "model.eval()\n",
    "\n",
    "dm = CIFAR10DataModule(data_path=DATA_DIR, batch_size=BATCH_SIZE)\n",
    "dm.prepare_data()\n",
    "dm.setup(\"fit\")\n",
    "test_loader = dm.test_dataloader()\n",
    "\n",
    "# De-normalization\n",
    "def denormalize_cifar(img_tensor):\n",
    "    mean = torch.tensor([0.4914, 0.4822, 0.4465]).view(3, 1, 1)\n",
    "    std = torch.tensor([0.2023, 0.1994, 0.2010]).view(3, 1, 1)\n",
    "    return img_tensor * std + mean\n",
    "\n",
    "# # Load one sample\n",
    "# dm = CIFAR10DataModule(data_path=DATA_DIR, batch_size=1)\n",
    "# dm.prepare_data()\n",
    "# dm.setup(\"fit\")\n",
    "# img_tensor, label = next(iter(dm.test_dataloader()))\n",
    "\n",
    "# # Format and visualize\n",
    "# img = denormalize_cifar(img_tensor[0])  # remove batch dim\n",
    "# img_np = img.numpy().transpose(1, 2, 0)\n",
    "# img_np = np.clip(img_np, 0, 1)\n",
    "\n",
    "# plt.figure(figsize=(4, 4))  # Optional: upscale figure\n",
    "# plt.imshow(img_np, interpolation='nearest')\n",
    "# plt.title(f\"Label: {label.item()}\")\n",
    "# plt.axis(\"off\")\n",
    "# plt.show()\n"
   ]
  },
  {
   "cell_type": "code",
   "execution_count": 19,
   "metadata": {},
   "outputs": [
    {
     "name": "stdout",
     "output_type": "stream",
     "text": [
      "Shape: torch.Size([1, 3, 32, 32])\n",
      "Dtype: torch.float32\n",
      "Min: -2.1770617961883545\n",
      "Max: 2.6952004432678223\n"
     ]
    }
   ],
   "source": [
    "print(\"Shape:\", img_tensor.shape)\n",
    "print(\"Dtype:\", img_tensor.dtype)\n",
    "print(\"Min:\", img_tensor.min().item())\n",
    "print(\"Max:\", img_tensor.max().item())"
   ]
  },
  {
   "cell_type": "code",
   "execution_count": 20,
   "metadata": {},
   "outputs": [
    {
     "name": "stdout",
     "output_type": "stream",
     "text": [
      "Image shape (HWC): (32, 32, 3)\n",
      "Pixel range: 0.05098042 - 1.0\n"
     ]
    }
   ],
   "source": [
    "print(\"Image shape (HWC):\", img_np.shape)\n",
    "print(\"Pixel range:\", img_np.min(), \"-\", img_np.max())\n"
   ]
  },
  {
   "cell_type": "code",
   "execution_count": null,
   "metadata": {},
   "outputs": [],
   "source": [
    "import torch\n",
    "import numpy as np\n",
    "from pytorch_grad_cam import (\n",
    "    GradCAM, HiResCAM, ScoreCAM\n",
    ")\n",
    "from pytorch_grad_cam.utils.image import show_cam_on_image\n",
    "from pytorch_grad_cam.utils.model_targets import ClassifierOutputTarget\n",
    "from skimage.transform import resize\n",
    "import matplotlib.pyplot as plt\n",
    "from collections import defaultdict\n",
    "\n",
    "device = torch.device('cuda' if torch.cuda.is_available() else 'cpu')\n",
    "NUM_IMAGES_PER_CLASS = 2\n",
    "\n",
    "# Target CAM layer\n",
    "target_layers = [model.model.layer4[-1].conv1]\n",
    "\n",
    "# Collect 2 correct examples per class\n",
    "class_to_samples = defaultdict(list)\n",
    "\n",
    "for images, labels in test_loader:\n",
    "    images, labels = images.to(device), labels.to(device)\n",
    "\n",
    "    with torch.no_grad():\n",
    "        outputs = model(images)\n",
    "        preds = outputs.argmax(dim=1)\n",
    "\n",
    "    for i in range(images.size(0)):\n",
    "        true_class = labels[i].item()\n",
    "        pred_class = preds[i].item()\n",
    "        if true_class == pred_class and len(class_to_samples[true_class]) < NUM_IMAGES_PER_CLASS:\n",
    "            class_to_samples[true_class].append((images[i].detach().cpu(), pred_class))\n",
    "\n",
    "    if all(len(class_to_samples[c]) >= NUM_IMAGES_PER_CLASS for c in range(10)):\n",
    "        break\n",
    "\n",
    "# Supported CAM methods\n",
    "CAM_METHODS = {\n",
    "    \"gradcam\": GradCAM,\n",
    "#     \"hirescam\": HiResCAM,\n",
    "#     \"scorecam\": ScoreCAM\n",
    "# }\n",
    "\n",
    "}\n",
    "\n",
    "# Apply each method\n",
    "for method_name, cam_method in CAM_METHODS.items():\n",
    "    print(f\"\\nMETHOD: {method_name.upper()}\")\n",
    "    \n",
    "    with cam_method(model=model, target_layers=target_layers) as cam:\n",
    "        for class_id, samples in class_to_samples.items():\n",
    "            for img_tensor, pred_class in samples:\n",
    "                input_tensor = img_tensor.unsqueeze(0).to(device)\n",
    "\n",
    "                # Set the target class for GradCAM\n",
    "                targets = [ClassifierOutputTarget(pred_class)]\n",
    "\n",
    "                # Run GradCAM and get the grayscale map\n",
    "                grayscale_cam = cam(input_tensor=input_tensor, targets=targets)[0]\n",
    "\n",
    "                # De-normalize image\n",
    "                img_tensor_denorm = denormalize_cifar(img_tensor)\n",
    "                img_np = img_tensor_denorm.numpy().transpose(1, 2, 0)\n",
    "                img_np = np.clip(img_np, 0, 1)\n",
    "\n",
    "                # Overlay CAM on image (no manual resizing needed)\n",
    "                visualization = show_cam_on_image(img_np, grayscale_cam, use_rgb=True)\n",
    "\n",
    "                # Plot\n",
    "                plt.figure(figsize=(8, 4))\n",
    "                plt.subplot(1, 2, 1)\n",
    "                plt.imshow(img_np)\n",
    "                plt.title(f\"Class: {class_id}\")\n",
    "                plt.axis(\"off\")\n",
    "\n",
    "                plt.subplot(1, 2, 2)\n",
    "                plt.imshow(visualization)\n",
    "                plt.title(f\"{method_name.upper()} CAM\")\n",
    "                plt.axis(\"off\")\n",
    "\n",
    "                plt.tight_layout()\n",
    "                plt.show()"
   ]
  },
  {
   "cell_type": "code",
   "execution_count": null,
   "metadata": {},
   "outputs": [],
   "source": []
  }
 ],
 "metadata": {
  "kaggle": {
   "accelerator": "gpu",
   "dataSources": [
    {
     "datasetId": 4061437,
     "sourceId": 7056056,
     "sourceType": "datasetVersion"
    }
   ],
   "dockerImageVersionId": 30587,
   "isGpuEnabled": true,
   "isInternetEnabled": true,
   "language": "python",
   "sourceType": "notebook"
  },
  "kernelspec": {
   "display_name": ".venv",
   "language": "python",
   "name": "python3"
  },
  "language_info": {
   "codemirror_mode": {
    "name": "ipython",
    "version": 3
   },
   "file_extension": ".py",
   "mimetype": "text/x-python",
   "name": "python",
   "nbconvert_exporter": "python",
   "pygments_lexer": "ipython3",
   "version": "3.12.3"
  }
 },
 "nbformat": 4,
 "nbformat_minor": 4
}
